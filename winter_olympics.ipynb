{
 "cells": [
  {
   "cell_type": "markdown",
   "id": "ca8afa36",
   "metadata": {},
   "source": [
    "# Hamoye Capstone project - Winter Olympics"
   ]
  },
  {
   "cell_type": "markdown",
   "id": "059337d7",
   "metadata": {},
   "source": [
    "## By Sumit Redekar"
   ]
  },
  {
   "cell_type": "markdown",
   "id": "8f026a02",
   "metadata": {},
   "source": [
    "### 1. Problem Statement\n",
    "To predict the type of medal a Country wins (GOLD, BRONZE, SILVER). So the target variable is MEDAL."
   ]
  },
  {
   "cell_type": "markdown",
   "id": "0752b6d1",
   "metadata": {},
   "source": [
    "### 2. Dataset \n",
    "Dataset taken from **Kaggle** - https://www.kaggle.com/the-guardian/olympic-games"
   ]
  },
  {
   "cell_type": "markdown",
   "id": "0527762f",
   "metadata": {},
   "source": [
    "### 3. Evaluation\n",
    "Metrics used to evaluate the model performance are: accuracy, precision and f1 score."
   ]
  },
  {
   "cell_type": "markdown",
   "id": "1c4e1915",
   "metadata": {},
   "source": [
    "### Getting Started\n"
   ]
  },
  {
   "cell_type": "code",
   "execution_count": 1,
   "id": "ba729fe1",
   "metadata": {},
   "outputs": [],
   "source": [
    "#importing libraries\n",
    "import numpy as np\n",
    "import pandas as pd\n",
    "import matplotlib.pyplot as plt\n",
    "import seaborn as sns\n",
    "%matplotlib inline"
   ]
  },
  {
   "cell_type": "code",
   "execution_count": 2,
   "id": "81733686",
   "metadata": {},
   "outputs": [],
   "source": [
    "data = pd.read_csv('winter.csv')"
   ]
  },
  {
   "cell_type": "code",
   "execution_count": 3,
   "id": "5337cdf7",
   "metadata": {},
   "outputs": [
    {
     "data": {
      "text/html": [
       "<div>\n",
       "<style scoped>\n",
       "    .dataframe tbody tr th:only-of-type {\n",
       "        vertical-align: middle;\n",
       "    }\n",
       "\n",
       "    .dataframe tbody tr th {\n",
       "        vertical-align: top;\n",
       "    }\n",
       "\n",
       "    .dataframe thead th {\n",
       "        text-align: right;\n",
       "    }\n",
       "</style>\n",
       "<table border=\"1\" class=\"dataframe\">\n",
       "  <thead>\n",
       "    <tr style=\"text-align: right;\">\n",
       "      <th></th>\n",
       "      <th>Year</th>\n",
       "      <th>City</th>\n",
       "      <th>Sport</th>\n",
       "      <th>Discipline</th>\n",
       "      <th>Athlete</th>\n",
       "      <th>Country</th>\n",
       "      <th>Gender</th>\n",
       "      <th>Event</th>\n",
       "      <th>Medal</th>\n",
       "    </tr>\n",
       "  </thead>\n",
       "  <tbody>\n",
       "    <tr>\n",
       "      <th>0</th>\n",
       "      <td>1924</td>\n",
       "      <td>Chamonix</td>\n",
       "      <td>Biathlon</td>\n",
       "      <td>Biathlon</td>\n",
       "      <td>BERTHET, G.</td>\n",
       "      <td>FRA</td>\n",
       "      <td>Men</td>\n",
       "      <td>Military Patrol</td>\n",
       "      <td>Bronze</td>\n",
       "    </tr>\n",
       "    <tr>\n",
       "      <th>1</th>\n",
       "      <td>1924</td>\n",
       "      <td>Chamonix</td>\n",
       "      <td>Biathlon</td>\n",
       "      <td>Biathlon</td>\n",
       "      <td>MANDRILLON, C.</td>\n",
       "      <td>FRA</td>\n",
       "      <td>Men</td>\n",
       "      <td>Military Patrol</td>\n",
       "      <td>Bronze</td>\n",
       "    </tr>\n",
       "    <tr>\n",
       "      <th>2</th>\n",
       "      <td>1924</td>\n",
       "      <td>Chamonix</td>\n",
       "      <td>Biathlon</td>\n",
       "      <td>Biathlon</td>\n",
       "      <td>MANDRILLON, Maurice</td>\n",
       "      <td>FRA</td>\n",
       "      <td>Men</td>\n",
       "      <td>Military Patrol</td>\n",
       "      <td>Bronze</td>\n",
       "    </tr>\n",
       "    <tr>\n",
       "      <th>3</th>\n",
       "      <td>1924</td>\n",
       "      <td>Chamonix</td>\n",
       "      <td>Biathlon</td>\n",
       "      <td>Biathlon</td>\n",
       "      <td>VANDELLE, André</td>\n",
       "      <td>FRA</td>\n",
       "      <td>Men</td>\n",
       "      <td>Military Patrol</td>\n",
       "      <td>Bronze</td>\n",
       "    </tr>\n",
       "    <tr>\n",
       "      <th>4</th>\n",
       "      <td>1924</td>\n",
       "      <td>Chamonix</td>\n",
       "      <td>Biathlon</td>\n",
       "      <td>Biathlon</td>\n",
       "      <td>AUFDENBLATTEN, Adolf</td>\n",
       "      <td>SUI</td>\n",
       "      <td>Men</td>\n",
       "      <td>Military Patrol</td>\n",
       "      <td>Gold</td>\n",
       "    </tr>\n",
       "  </tbody>\n",
       "</table>\n",
       "</div>"
      ],
      "text/plain": [
       "   Year      City     Sport Discipline               Athlete Country Gender  \\\n",
       "0  1924  Chamonix  Biathlon   Biathlon           BERTHET, G.     FRA    Men   \n",
       "1  1924  Chamonix  Biathlon   Biathlon        MANDRILLON, C.     FRA    Men   \n",
       "2  1924  Chamonix  Biathlon   Biathlon   MANDRILLON, Maurice     FRA    Men   \n",
       "3  1924  Chamonix  Biathlon   Biathlon       VANDELLE, André     FRA    Men   \n",
       "4  1924  Chamonix  Biathlon   Biathlon  AUFDENBLATTEN, Adolf     SUI    Men   \n",
       "\n",
       "             Event   Medal  \n",
       "0  Military Patrol  Bronze  \n",
       "1  Military Patrol  Bronze  \n",
       "2  Military Patrol  Bronze  \n",
       "3  Military Patrol  Bronze  \n",
       "4  Military Patrol    Gold  "
      ]
     },
     "execution_count": 3,
     "metadata": {},
     "output_type": "execute_result"
    }
   ],
   "source": [
    "data.head()"
   ]
  },
  {
   "cell_type": "markdown",
   "id": "055cb421",
   "metadata": {},
   "source": [
    "### Exploratory Data Analysis"
   ]
  },
  {
   "cell_type": "code",
   "execution_count": 4,
   "id": "ec61c627",
   "metadata": {},
   "outputs": [
    {
     "name": "stdout",
     "output_type": "stream",
     "text": [
      "<class 'pandas.core.frame.DataFrame'>\n",
      "RangeIndex: 5770 entries, 0 to 5769\n",
      "Data columns (total 9 columns):\n",
      " #   Column      Non-Null Count  Dtype \n",
      "---  ------      --------------  ----- \n",
      " 0   Year        5770 non-null   int64 \n",
      " 1   City        5770 non-null   object\n",
      " 2   Sport       5770 non-null   object\n",
      " 3   Discipline  5770 non-null   object\n",
      " 4   Athlete     5770 non-null   object\n",
      " 5   Country     5770 non-null   object\n",
      " 6   Gender      5770 non-null   object\n",
      " 7   Event       5770 non-null   object\n",
      " 8   Medal       5770 non-null   object\n",
      "dtypes: int64(1), object(8)\n",
      "memory usage: 405.8+ KB\n"
     ]
    }
   ],
   "source": [
    "data.info()"
   ]
  },
  {
   "cell_type": "code",
   "execution_count": 5,
   "id": "81721433",
   "metadata": {},
   "outputs": [
    {
     "data": {
      "text/html": [
       "<div>\n",
       "<style scoped>\n",
       "    .dataframe tbody tr th:only-of-type {\n",
       "        vertical-align: middle;\n",
       "    }\n",
       "\n",
       "    .dataframe tbody tr th {\n",
       "        vertical-align: top;\n",
       "    }\n",
       "\n",
       "    .dataframe thead th {\n",
       "        text-align: right;\n",
       "    }\n",
       "</style>\n",
       "<table border=\"1\" class=\"dataframe\">\n",
       "  <thead>\n",
       "    <tr style=\"text-align: right;\">\n",
       "      <th></th>\n",
       "      <th>Year</th>\n",
       "    </tr>\n",
       "  </thead>\n",
       "  <tbody>\n",
       "    <tr>\n",
       "      <th>count</th>\n",
       "      <td>5770.000000</td>\n",
       "    </tr>\n",
       "    <tr>\n",
       "      <th>mean</th>\n",
       "      <td>1986.350433</td>\n",
       "    </tr>\n",
       "    <tr>\n",
       "      <th>std</th>\n",
       "      <td>24.263673</td>\n",
       "    </tr>\n",
       "    <tr>\n",
       "      <th>min</th>\n",
       "      <td>1924.000000</td>\n",
       "    </tr>\n",
       "    <tr>\n",
       "      <th>25%</th>\n",
       "      <td>1972.000000</td>\n",
       "    </tr>\n",
       "    <tr>\n",
       "      <th>50%</th>\n",
       "      <td>1994.000000</td>\n",
       "    </tr>\n",
       "    <tr>\n",
       "      <th>75%</th>\n",
       "      <td>2006.000000</td>\n",
       "    </tr>\n",
       "    <tr>\n",
       "      <th>max</th>\n",
       "      <td>2014.000000</td>\n",
       "    </tr>\n",
       "  </tbody>\n",
       "</table>\n",
       "</div>"
      ],
      "text/plain": [
       "              Year\n",
       "count  5770.000000\n",
       "mean   1986.350433\n",
       "std      24.263673\n",
       "min    1924.000000\n",
       "25%    1972.000000\n",
       "50%    1994.000000\n",
       "75%    2006.000000\n",
       "max    2014.000000"
      ]
     },
     "execution_count": 5,
     "metadata": {},
     "output_type": "execute_result"
    }
   ],
   "source": [
    "data.describe()"
   ]
  },
  {
   "cell_type": "code",
   "execution_count": 6,
   "id": "f6946f19",
   "metadata": {},
   "outputs": [
    {
     "data": {
      "image/png": "[encoded data removed]",
      "text/plain": [
       "<Figure size 432x288 with 1 Axes>"
      ]
     },
     "metadata": {
      "needs_background": "light"
     },
     "output_type": "display_data"
    }
   ],
   "source": [
    "data.plot(kind='hist');"
   ]
  },
  {
   "cell_type": "markdown",
   "id": "790a1d24",
   "metadata": {},
   "source": [
    "#### Converting categorical features into numeric features with Ordinal Encoding"
   ]
  },
  {
   "cell_type": "code",
   "execution_count": 7,
   "id": "40670694",
   "metadata": {},
   "outputs": [],
   "source": [
    "from sklearn.preprocessing import OrdinalEncoder\n",
    "from sklearn.compose import ColumnTransformer"
   ]
  },
  {
   "cell_type": "code",
   "execution_count": 8,
   "id": "45a1b0ea",
   "metadata": {},
   "outputs": [],
   "source": [
    "#copy of og data\n",
    "data_tmp = data.copy()"
   ]
  },
  {
   "cell_type": "code",
   "execution_count": 9,
   "id": "64af5ad5",
   "metadata": {},
   "outputs": [
    {
     "data": {
      "text/plain": [
       "Index(['Year', 'City', 'Sport', 'Discipline', 'Athlete', 'Country', 'Gender',\n",
       "       'Event', 'Medal'],\n",
       "      dtype='object')"
      ]
     },
     "execution_count": 9,
     "metadata": {},
     "output_type": "execute_result"
    }
   ],
   "source": [
    "data.columns"
   ]
  },
  {
   "cell_type": "code",
   "execution_count": 10,
   "id": "f41e1644",
   "metadata": {},
   "outputs": [],
   "source": [
    "categorical_features = ['City', 'Sport', 'Discipline', 'Athlete', 'Country', 'Gender','Event', 'Medal']\n",
    "ordinal = OrdinalEncoder()\n",
    "data_tmp[categorical_features] = ordinal.fit_transform(data[categorical_features])"
   ]
  },
  {
   "cell_type": "code",
   "execution_count": 11,
   "id": "e3e74ac5",
   "metadata": {},
   "outputs": [
    {
     "data": {
      "text/html": [
       "<div>\n",
       "<style scoped>\n",
       "    .dataframe tbody tr th:only-of-type {\n",
       "        vertical-align: middle;\n",
       "    }\n",
       "\n",
       "    .dataframe tbody tr th {\n",
       "        vertical-align: top;\n",
       "    }\n",
       "\n",
       "    .dataframe thead th {\n",
       "        text-align: right;\n",
       "    }\n",
       "</style>\n",
       "<table border=\"1\" class=\"dataframe\">\n",
       "  <thead>\n",
       "    <tr style=\"text-align: right;\">\n",
       "      <th></th>\n",
       "      <th>Year</th>\n",
       "      <th>City</th>\n",
       "      <th>Sport</th>\n",
       "      <th>Discipline</th>\n",
       "      <th>Athlete</th>\n",
       "      <th>Country</th>\n",
       "      <th>Gender</th>\n",
       "      <th>Event</th>\n",
       "      <th>Medal</th>\n",
       "    </tr>\n",
       "  </thead>\n",
       "  <tbody>\n",
       "    <tr>\n",
       "      <th>0</th>\n",
       "      <td>1924</td>\n",
       "      <td>2.0</td>\n",
       "      <td>0.0</td>\n",
       "      <td>1.0</td>\n",
       "      <td>280.0</td>\n",
       "      <td>15.0</td>\n",
       "      <td>0.0</td>\n",
       "      <td>57.0</td>\n",
       "      <td>0.0</td>\n",
       "    </tr>\n",
       "    <tr>\n",
       "      <th>1</th>\n",
       "      <td>1924</td>\n",
       "      <td>2.0</td>\n",
       "      <td>0.0</td>\n",
       "      <td>1.0</td>\n",
       "      <td>2075.0</td>\n",
       "      <td>15.0</td>\n",
       "      <td>0.0</td>\n",
       "      <td>57.0</td>\n",
       "      <td>0.0</td>\n",
       "    </tr>\n",
       "    <tr>\n",
       "      <th>2</th>\n",
       "      <td>1924</td>\n",
       "      <td>2.0</td>\n",
       "      <td>0.0</td>\n",
       "      <td>1.0</td>\n",
       "      <td>2076.0</td>\n",
       "      <td>15.0</td>\n",
       "      <td>0.0</td>\n",
       "      <td>57.0</td>\n",
       "      <td>0.0</td>\n",
       "    </tr>\n",
       "    <tr>\n",
       "      <th>3</th>\n",
       "      <td>1924</td>\n",
       "      <td>2.0</td>\n",
       "      <td>0.0</td>\n",
       "      <td>1.0</td>\n",
       "      <td>3456.0</td>\n",
       "      <td>15.0</td>\n",
       "      <td>0.0</td>\n",
       "      <td>57.0</td>\n",
       "      <td>0.0</td>\n",
       "    </tr>\n",
       "    <tr>\n",
       "      <th>4</th>\n",
       "      <td>1924</td>\n",
       "      <td>2.0</td>\n",
       "      <td>0.0</td>\n",
       "      <td>1.0</td>\n",
       "      <td>152.0</td>\n",
       "      <td>36.0</td>\n",
       "      <td>0.0</td>\n",
       "      <td>57.0</td>\n",
       "      <td>1.0</td>\n",
       "    </tr>\n",
       "    <tr>\n",
       "      <th>...</th>\n",
       "      <td>...</td>\n",
       "      <td>...</td>\n",
       "      <td>...</td>\n",
       "      <td>...</td>\n",
       "      <td>...</td>\n",
       "      <td>...</td>\n",
       "      <td>...</td>\n",
       "      <td>...</td>\n",
       "      <td>...</td>\n",
       "    </tr>\n",
       "    <tr>\n",
       "      <th>5765</th>\n",
       "      <td>2014</td>\n",
       "      <td>14.0</td>\n",
       "      <td>6.0</td>\n",
       "      <td>13.0</td>\n",
       "      <td>1477.0</td>\n",
       "      <td>17.0</td>\n",
       "      <td>1.0</td>\n",
       "      <td>69.0</td>\n",
       "      <td>0.0</td>\n",
       "    </tr>\n",
       "    <tr>\n",
       "      <th>5766</th>\n",
       "      <td>2014</td>\n",
       "      <td>14.0</td>\n",
       "      <td>6.0</td>\n",
       "      <td>13.0</td>\n",
       "      <td>77.0</td>\n",
       "      <td>42.0</td>\n",
       "      <td>1.0</td>\n",
       "      <td>69.0</td>\n",
       "      <td>1.0</td>\n",
       "    </tr>\n",
       "    <tr>\n",
       "      <th>5767</th>\n",
       "      <td>2014</td>\n",
       "      <td>14.0</td>\n",
       "      <td>6.0</td>\n",
       "      <td>13.0</td>\n",
       "      <td>2067.0</td>\n",
       "      <td>5.0</td>\n",
       "      <td>1.0</td>\n",
       "      <td>70.0</td>\n",
       "      <td>2.0</td>\n",
       "    </tr>\n",
       "    <tr>\n",
       "      <th>5768</th>\n",
       "      <td>2014</td>\n",
       "      <td>14.0</td>\n",
       "      <td>6.0</td>\n",
       "      <td>13.0</td>\n",
       "      <td>2882.0</td>\n",
       "      <td>8.0</td>\n",
       "      <td>1.0</td>\n",
       "      <td>70.0</td>\n",
       "      <td>1.0</td>\n",
       "    </tr>\n",
       "    <tr>\n",
       "      <th>5769</th>\n",
       "      <td>2014</td>\n",
       "      <td>14.0</td>\n",
       "      <td>6.0</td>\n",
       "      <td>13.0</td>\n",
       "      <td>3383.0</td>\n",
       "      <td>15.0</td>\n",
       "      <td>1.0</td>\n",
       "      <td>70.0</td>\n",
       "      <td>0.0</td>\n",
       "    </tr>\n",
       "  </tbody>\n",
       "</table>\n",
       "<p>5770 rows × 9 columns</p>\n",
       "</div>"
      ],
      "text/plain": [
       "      Year  City  Sport  Discipline  Athlete  Country  Gender  Event  Medal\n",
       "0     1924   2.0    0.0         1.0    280.0     15.0     0.0   57.0    0.0\n",
       "1     1924   2.0    0.0         1.0   2075.0     15.0     0.0   57.0    0.0\n",
       "2     1924   2.0    0.0         1.0   2076.0     15.0     0.0   57.0    0.0\n",
       "3     1924   2.0    0.0         1.0   3456.0     15.0     0.0   57.0    0.0\n",
       "4     1924   2.0    0.0         1.0    152.0     36.0     0.0   57.0    1.0\n",
       "...    ...   ...    ...         ...      ...      ...     ...    ...    ...\n",
       "5765  2014  14.0    6.0        13.0   1477.0     17.0     1.0   69.0    0.0\n",
       "5766  2014  14.0    6.0        13.0     77.0     42.0     1.0   69.0    1.0\n",
       "5767  2014  14.0    6.0        13.0   2067.0      5.0     1.0   70.0    2.0\n",
       "5768  2014  14.0    6.0        13.0   2882.0      8.0     1.0   70.0    1.0\n",
       "5769  2014  14.0    6.0        13.0   3383.0     15.0     1.0   70.0    0.0\n",
       "\n",
       "[5770 rows x 9 columns]"
      ]
     },
     "execution_count": 11,
     "metadata": {},
     "output_type": "execute_result"
    }
   ],
   "source": [
    "data_tmp"
   ]
  },
  {
   "cell_type": "code",
   "execution_count": 12,
   "id": "7cb68f8d",
   "metadata": {},
   "outputs": [
    {
     "name": "stdout",
     "output_type": "stream",
     "text": [
      "<class 'pandas.core.frame.DataFrame'>\n",
      "RangeIndex: 5770 entries, 0 to 5769\n",
      "Data columns (total 9 columns):\n",
      " #   Column      Non-Null Count  Dtype  \n",
      "---  ------      --------------  -----  \n",
      " 0   Year        5770 non-null   int64  \n",
      " 1   City        5770 non-null   float64\n",
      " 2   Sport       5770 non-null   float64\n",
      " 3   Discipline  5770 non-null   float64\n",
      " 4   Athlete     5770 non-null   float64\n",
      " 5   Country     5770 non-null   float64\n",
      " 6   Gender      5770 non-null   float64\n",
      " 7   Event       5770 non-null   float64\n",
      " 8   Medal       5770 non-null   float64\n",
      "dtypes: float64(8), int64(1)\n",
      "memory usage: 405.8 KB\n"
     ]
    }
   ],
   "source": [
    "data_tmp.info()\n"
   ]
  },
  {
   "cell_type": "code",
   "execution_count": 13,
   "id": "6851e1df",
   "metadata": {},
   "outputs": [
    {
     "data": {
      "text/plain": [
       "Year          0\n",
       "City          0\n",
       "Sport         0\n",
       "Discipline    0\n",
       "Athlete       0\n",
       "Country       0\n",
       "Gender        0\n",
       "Event         0\n",
       "Medal         0\n",
       "dtype: int64"
      ]
     },
     "execution_count": 13,
     "metadata": {},
     "output_type": "execute_result"
    }
   ],
   "source": [
    "data_tmp.isnull().sum()"
   ]
  },
  {
   "cell_type": "code",
   "execution_count": 14,
   "id": "85d5efb7",
   "metadata": {},
   "outputs": [
    {
     "data": {
      "image/png": "[encoded data removed]",
      "text/plain": [
       "<Figure size 864x720 with 2 Axes>"
      ]
     },
     "metadata": {
      "needs_background": "light"
     },
     "output_type": "display_data"
    }
   ],
   "source": [
    "#correlation matrix\n",
    "corr = data_tmp.corr()\n",
    "fig, ax = plt.subplots(figsize=(12,10))\n",
    "sns.heatmap(corr, annot=True);"
   ]
  },
  {
   "cell_type": "markdown",
   "id": "93d89be2",
   "metadata": {},
   "source": [
    "After converting all categorical features into numerical features our data is now ready for modeling"
   ]
  },
  {
   "cell_type": "markdown",
   "id": "c25d46a7",
   "metadata": {},
   "source": [
    "### Modeling"
   ]
  },
  {
   "cell_type": "code",
   "execution_count": 15,
   "id": "711ecab7",
   "metadata": {},
   "outputs": [],
   "source": [
    "#getting our X and y\n",
    "X = data_tmp.drop('Medal',axis=1)\n",
    "y = data_tmp['Medal']"
   ]
  },
  {
   "cell_type": "code",
   "execution_count": 16,
   "id": "98672998",
   "metadata": {},
   "outputs": [],
   "source": [
    "from  sklearn.model_selection import train_test_split\n",
    "\n",
    "#splitting X and y in training and testing data\n",
    "X_train, X_test, y_train, y_test = train_test_split(X, y, test_size=0.2, random_state=42)"
   ]
  },
  {
   "cell_type": "code",
   "execution_count": 17,
   "id": "d121078c",
   "metadata": {},
   "outputs": [
    {
     "data": {
      "text/plain": [
       "((4616, 8), (4616,))"
      ]
     },
     "execution_count": 17,
     "metadata": {},
     "output_type": "execute_result"
    }
   ],
   "source": [
    "X_train.shape, y_train.shape"
   ]
  },
  {
   "cell_type": "code",
   "execution_count": 18,
   "id": "d31bc932",
   "metadata": {},
   "outputs": [
    {
     "data": {
      "text/plain": [
       "((1154, 8), (1154,))"
      ]
     },
     "execution_count": 18,
     "metadata": {},
     "output_type": "execute_result"
    }
   ],
   "source": [
    "X_test.shape, y_test.shape"
   ]
  },
  {
   "cell_type": "code",
   "execution_count": 19,
   "id": "a241d3c2",
   "metadata": {},
   "outputs": [],
   "source": [
    "#scaling features \n",
    "from sklearn.preprocessing import MinMaxScaler\n",
    "scalar = MinMaxScaler()\n",
    "X_train_scaled = scalar.fit_transform(X_train)\n",
    "X_test_scaled = scalar.transform(X_test)"
   ]
  },
  {
   "cell_type": "code",
   "execution_count": 20,
   "id": "903006bc",
   "metadata": {},
   "outputs": [],
   "source": [
    "#importing models\n",
    "from sklearn.linear_model import LogisticRegression\n",
    "from sklearn.tree import DecisionTreeClassifier, ExtraTreeClassifier\n",
    "from sklearn.ensemble import RandomForestClassifier, GradientBoostingClassifier, AdaBoostClassifier, BaggingClassifier\n",
    "from sklearn.neighbors import KNeighborsClassifier\n",
    "from catboost import CatBoostClassifier\n",
    "from xgboost import XGBClassifier"
   ]
  },
  {
   "cell_type": "code",
   "execution_count": 21,
   "id": "c006a0d7",
   "metadata": {},
   "outputs": [],
   "source": [
    "#importing metrics \n",
    "from sklearn.model_selection import RandomizedSearchCV,GridSearchCV,cross_val_score\n",
    "from sklearn.metrics import classification_report,confusion_matrix\n",
    "from sklearn.metrics import precision_score,recall_score,f1_score\n",
    "from sklearn.metrics import plot_roc_curve"
   ]
  },
  {
   "cell_type": "markdown",
   "id": "408b9eb2",
   "metadata": {},
   "source": [
    "#### Lazypredict to compare machine learning models"
   ]
  },
  {
   "cell_type": "code",
   "execution_count": 22,
   "id": "71320afd",
   "metadata": {},
   "outputs": [],
   "source": [
    "import warnings\n",
    "warnings.filterwarnings(\"ignore\")"
   ]
  },
  {
   "cell_type": "code",
   "execution_count": 23,
   "id": "dae90622",
   "metadata": {},
   "outputs": [
    {
     "name": "stderr",
     "output_type": "stream",
     "text": [
      "100%|██████████████████████████████████████████████████████████████████████████████████| 29/29 [00:07<00:00,  4.03it/s]\n"
     ]
    }
   ],
   "source": [
    "#import\n",
    "from lazypredict.Supervised import LazyClassifier\n",
    "\n",
    "#fitting\n",
    "clf = LazyClassifier(verbose=0, ignore_warnings=True,custom_metric=None, predictions=True)\n",
    "models,predictions = clf.fit(X_train_scaled, X_test_scaled, y_train, y_test)"
   ]
  },
  {
   "cell_type": "code",
   "execution_count": 87,
   "id": "1230b94e",
   "metadata": {},
   "outputs": [
    {
     "data": {
      "text/html": [
       "<div>\n",
       "<style scoped>\n",
       "    .dataframe tbody tr th:only-of-type {\n",
       "        vertical-align: middle;\n",
       "    }\n",
       "\n",
       "    .dataframe tbody tr th {\n",
       "        vertical-align: top;\n",
       "    }\n",
       "\n",
       "    .dataframe thead th {\n",
       "        text-align: right;\n",
       "    }\n",
       "</style>\n",
       "<table border=\"1\" class=\"dataframe\">\n",
       "  <thead>\n",
       "    <tr style=\"text-align: right;\">\n",
       "      <th></th>\n",
       "      <th>Accuracy</th>\n",
       "      <th>Balanced Accuracy</th>\n",
       "      <th>ROC AUC</th>\n",
       "      <th>F1 Score</th>\n",
       "      <th>Time Taken</th>\n",
       "    </tr>\n",
       "    <tr>\n",
       "      <th>Model</th>\n",
       "      <th></th>\n",
       "      <th></th>\n",
       "      <th></th>\n",
       "      <th></th>\n",
       "      <th></th>\n",
       "    </tr>\n",
       "  </thead>\n",
       "  <tbody>\n",
       "    <tr>\n",
       "      <th>BaggingClassifier</th>\n",
       "      <td>0.64</td>\n",
       "      <td>0.64</td>\n",
       "      <td>None</td>\n",
       "      <td>0.64</td>\n",
       "      <td>0.11</td>\n",
       "    </tr>\n",
       "    <tr>\n",
       "      <th>DecisionTreeClassifier</th>\n",
       "      <td>0.64</td>\n",
       "      <td>0.63</td>\n",
       "      <td>None</td>\n",
       "      <td>0.64</td>\n",
       "      <td>0.02</td>\n",
       "    </tr>\n",
       "    <tr>\n",
       "      <th>RandomForestClassifier</th>\n",
       "      <td>0.62</td>\n",
       "      <td>0.62</td>\n",
       "      <td>None</td>\n",
       "      <td>0.62</td>\n",
       "      <td>0.45</td>\n",
       "    </tr>\n",
       "    <tr>\n",
       "      <th>ExtraTreesClassifier</th>\n",
       "      <td>0.62</td>\n",
       "      <td>0.62</td>\n",
       "      <td>None</td>\n",
       "      <td>0.62</td>\n",
       "      <td>0.38</td>\n",
       "    </tr>\n",
       "    <tr>\n",
       "      <th>XGBClassifier</th>\n",
       "      <td>0.62</td>\n",
       "      <td>0.62</td>\n",
       "      <td>None</td>\n",
       "      <td>0.62</td>\n",
       "      <td>0.47</td>\n",
       "    </tr>\n",
       "    <tr>\n",
       "      <th>ExtraTreeClassifier</th>\n",
       "      <td>0.59</td>\n",
       "      <td>0.59</td>\n",
       "      <td>None</td>\n",
       "      <td>0.59</td>\n",
       "      <td>0.01</td>\n",
       "    </tr>\n",
       "    <tr>\n",
       "      <th>LGBMClassifier</th>\n",
       "      <td>0.59</td>\n",
       "      <td>0.59</td>\n",
       "      <td>None</td>\n",
       "      <td>0.59</td>\n",
       "      <td>0.22</td>\n",
       "    </tr>\n",
       "    <tr>\n",
       "      <th>LabelPropagation</th>\n",
       "      <td>0.55</td>\n",
       "      <td>0.55</td>\n",
       "      <td>None</td>\n",
       "      <td>0.55</td>\n",
       "      <td>0.50</td>\n",
       "    </tr>\n",
       "    <tr>\n",
       "      <th>LabelSpreading</th>\n",
       "      <td>0.54</td>\n",
       "      <td>0.54</td>\n",
       "      <td>None</td>\n",
       "      <td>0.54</td>\n",
       "      <td>0.76</td>\n",
       "    </tr>\n",
       "    <tr>\n",
       "      <th>NuSVC</th>\n",
       "      <td>0.53</td>\n",
       "      <td>0.53</td>\n",
       "      <td>None</td>\n",
       "      <td>0.53</td>\n",
       "      <td>2.01</td>\n",
       "    </tr>\n",
       "    <tr>\n",
       "      <th>KNeighborsClassifier</th>\n",
       "      <td>0.49</td>\n",
       "      <td>0.49</td>\n",
       "      <td>None</td>\n",
       "      <td>0.49</td>\n",
       "      <td>0.06</td>\n",
       "    </tr>\n",
       "    <tr>\n",
       "      <th>AdaBoostClassifier</th>\n",
       "      <td>0.42</td>\n",
       "      <td>0.42</td>\n",
       "      <td>None</td>\n",
       "      <td>0.40</td>\n",
       "      <td>0.17</td>\n",
       "    </tr>\n",
       "    <tr>\n",
       "      <th>SVC</th>\n",
       "      <td>0.41</td>\n",
       "      <td>0.41</td>\n",
       "      <td>None</td>\n",
       "      <td>0.41</td>\n",
       "      <td>0.61</td>\n",
       "    </tr>\n",
       "    <tr>\n",
       "      <th>QuadraticDiscriminantAnalysis</th>\n",
       "      <td>0.36</td>\n",
       "      <td>0.36</td>\n",
       "      <td>None</td>\n",
       "      <td>0.35</td>\n",
       "      <td>0.07</td>\n",
       "    </tr>\n",
       "    <tr>\n",
       "      <th>DummyClassifier</th>\n",
       "      <td>0.36</td>\n",
       "      <td>0.36</td>\n",
       "      <td>None</td>\n",
       "      <td>0.36</td>\n",
       "      <td>0.05</td>\n",
       "    </tr>\n",
       "    <tr>\n",
       "      <th>PassiveAggressiveClassifier</th>\n",
       "      <td>0.34</td>\n",
       "      <td>0.35</td>\n",
       "      <td>None</td>\n",
       "      <td>0.31</td>\n",
       "      <td>0.05</td>\n",
       "    </tr>\n",
       "    <tr>\n",
       "      <th>SGDClassifier</th>\n",
       "      <td>0.34</td>\n",
       "      <td>0.34</td>\n",
       "      <td>None</td>\n",
       "      <td>0.34</td>\n",
       "      <td>0.08</td>\n",
       "    </tr>\n",
       "    <tr>\n",
       "      <th>BernoulliNB</th>\n",
       "      <td>0.33</td>\n",
       "      <td>0.34</td>\n",
       "      <td>None</td>\n",
       "      <td>0.32</td>\n",
       "      <td>0.04</td>\n",
       "    </tr>\n",
       "    <tr>\n",
       "      <th>GaussianNB</th>\n",
       "      <td>0.33</td>\n",
       "      <td>0.33</td>\n",
       "      <td>None</td>\n",
       "      <td>0.33</td>\n",
       "      <td>0.01</td>\n",
       "    </tr>\n",
       "    <tr>\n",
       "      <th>Perceptron</th>\n",
       "      <td>0.33</td>\n",
       "      <td>0.33</td>\n",
       "      <td>None</td>\n",
       "      <td>0.31</td>\n",
       "      <td>0.02</td>\n",
       "    </tr>\n",
       "    <tr>\n",
       "      <th>CalibratedClassifierCV</th>\n",
       "      <td>0.33</td>\n",
       "      <td>0.33</td>\n",
       "      <td>None</td>\n",
       "      <td>0.30</td>\n",
       "      <td>0.68</td>\n",
       "    </tr>\n",
       "    <tr>\n",
       "      <th>RidgeClassifier</th>\n",
       "      <td>0.33</td>\n",
       "      <td>0.33</td>\n",
       "      <td>None</td>\n",
       "      <td>0.31</td>\n",
       "      <td>0.05</td>\n",
       "    </tr>\n",
       "    <tr>\n",
       "      <th>RidgeClassifierCV</th>\n",
       "      <td>0.33</td>\n",
       "      <td>0.33</td>\n",
       "      <td>None</td>\n",
       "      <td>0.31</td>\n",
       "      <td>0.01</td>\n",
       "    </tr>\n",
       "    <tr>\n",
       "      <th>LinearSVC</th>\n",
       "      <td>0.33</td>\n",
       "      <td>0.33</td>\n",
       "      <td>None</td>\n",
       "      <td>0.31</td>\n",
       "      <td>0.16</td>\n",
       "    </tr>\n",
       "    <tr>\n",
       "      <th>NearestCentroid</th>\n",
       "      <td>0.33</td>\n",
       "      <td>0.33</td>\n",
       "      <td>None</td>\n",
       "      <td>0.31</td>\n",
       "      <td>0.01</td>\n",
       "    </tr>\n",
       "    <tr>\n",
       "      <th>LogisticRegression</th>\n",
       "      <td>0.33</td>\n",
       "      <td>0.33</td>\n",
       "      <td>None</td>\n",
       "      <td>0.31</td>\n",
       "      <td>0.05</td>\n",
       "    </tr>\n",
       "    <tr>\n",
       "      <th>LinearDiscriminantAnalysis</th>\n",
       "      <td>0.33</td>\n",
       "      <td>0.33</td>\n",
       "      <td>None</td>\n",
       "      <td>0.31</td>\n",
       "      <td>0.11</td>\n",
       "    </tr>\n",
       "  </tbody>\n",
       "</table>\n",
       "</div>"
      ],
      "text/plain": [
       "                               Accuracy  Balanced Accuracy ROC AUC  F1 Score  \\\n",
       "Model                                                                          \n",
       "BaggingClassifier                  0.64               0.64    None      0.64   \n",
       "DecisionTreeClassifier             0.64               0.63    None      0.64   \n",
       "RandomForestClassifier             0.62               0.62    None      0.62   \n",
       "ExtraTreesClassifier               0.62               0.62    None      0.62   \n",
       "XGBClassifier                      0.62               0.62    None      0.62   \n",
       "ExtraTreeClassifier                0.59               0.59    None      0.59   \n",
       "LGBMClassifier                     0.59               0.59    None      0.59   \n",
       "LabelPropagation                   0.55               0.55    None      0.55   \n",
       "LabelSpreading                     0.54               0.54    None      0.54   \n",
       "NuSVC                              0.53               0.53    None      0.53   \n",
       "KNeighborsClassifier               0.49               0.49    None      0.49   \n",
       "AdaBoostClassifier                 0.42               0.42    None      0.40   \n",
       "SVC                                0.41               0.41    None      0.41   \n",
       "QuadraticDiscriminantAnalysis      0.36               0.36    None      0.35   \n",
       "DummyClassifier                    0.36               0.36    None      0.36   \n",
       "PassiveAggressiveClassifier        0.34               0.35    None      0.31   \n",
       "SGDClassifier                      0.34               0.34    None      0.34   \n",
       "BernoulliNB                        0.33               0.34    None      0.32   \n",
       "GaussianNB                         0.33               0.33    None      0.33   \n",
       "Perceptron                         0.33               0.33    None      0.31   \n",
       "CalibratedClassifierCV             0.33               0.33    None      0.30   \n",
       "RidgeClassifier                    0.33               0.33    None      0.31   \n",
       "RidgeClassifierCV                  0.33               0.33    None      0.31   \n",
       "LinearSVC                          0.33               0.33    None      0.31   \n",
       "NearestCentroid                    0.33               0.33    None      0.31   \n",
       "LogisticRegression                 0.33               0.33    None      0.31   \n",
       "LinearDiscriminantAnalysis         0.33               0.33    None      0.31   \n",
       "\n",
       "                               Time Taken  \n",
       "Model                                      \n",
       "BaggingClassifier                    0.11  \n",
       "DecisionTreeClassifier               0.02  \n",
       "RandomForestClassifier               0.45  \n",
       "ExtraTreesClassifier                 0.38  \n",
       "XGBClassifier                        0.47  \n",
       "ExtraTreeClassifier                  0.01  \n",
       "LGBMClassifier                       0.22  \n",
       "LabelPropagation                     0.50  \n",
       "LabelSpreading                       0.76  \n",
       "NuSVC                                2.01  \n",
       "KNeighborsClassifier                 0.06  \n",
       "AdaBoostClassifier                   0.17  \n",
       "SVC                                  0.61  \n",
       "QuadraticDiscriminantAnalysis        0.07  \n",
       "DummyClassifier                      0.05  \n",
       "PassiveAggressiveClassifier          0.05  \n",
       "SGDClassifier                        0.08  \n",
       "BernoulliNB                          0.04  \n",
       "GaussianNB                           0.01  \n",
       "Perceptron                           0.02  \n",
       "CalibratedClassifierCV               0.68  \n",
       "RidgeClassifier                      0.05  \n",
       "RidgeClassifierCV                    0.01  \n",
       "LinearSVC                            0.16  \n",
       "NearestCentroid                      0.01  \n",
       "LogisticRegression                   0.05  \n",
       "LinearDiscriminantAnalysis           0.11  "
      ]
     },
     "execution_count": 87,
     "metadata": {},
     "output_type": "execute_result"
    }
   ],
   "source": [
    "models"
   ]
  },
  {
   "cell_type": "markdown",
   "id": "1b9af5ca",
   "metadata": {},
   "source": [
    "These are top five models who performs well :\n",
    "**BaggingClassifier, DecisionTreeClassifier, RandomForestClassifier, ExtraTreesClassifier, XGBClassifier**  \n"
   ]
  },
  {
   "cell_type": "markdown",
   "id": "d73d81e0",
   "metadata": {},
   "source": [
    "### Hypertuning"
   ]
  },
  {
   "cell_type": "markdown",
   "id": "847aaa1b",
   "metadata": {},
   "source": [
    "Let's hypertune this models "
   ]
  },
  {
   "cell_type": "markdown",
   "id": "2ed88aee",
   "metadata": {},
   "source": [
    "#### GridSearchCV for extensive tuning"
   ]
  },
  {
   "cell_type": "markdown",
   "id": "9b7499e2",
   "metadata": {},
   "source": [
    "1. Hyperparameter tuning for **BaggingClassifier**"
   ]
  },
  {
   "cell_type": "code",
   "execution_count": 25,
   "id": "a2285cd7",
   "metadata": {},
   "outputs": [
    {
     "name": "stderr",
     "output_type": "stream",
     "text": [
      "[Parallel(n_jobs=-1)]: Using backend LokyBackend with 6 concurrent workers.\n"
     ]
    },
    {
     "name": "stdout",
     "output_type": "stream",
     "text": [
      "Fitting 5 folds for each of 36 candidates, totalling 180 fits\n"
     ]
    },
    {
     "name": "stderr",
     "output_type": "stream",
     "text": [
      "[Parallel(n_jobs=-1)]: Done  41 tasks      | elapsed:    2.5s\n",
      "[Parallel(n_jobs=-1)]: Done 180 out of 180 | elapsed:   13.2s finished\n"
     ]
    },
    {
     "data": {
      "text/plain": [
       "GridSearchCV(cv=5, estimator=BaggingClassifier(), n_jobs=-1,\n",
       "             param_grid={'max_features': [1, 2, 3], 'max_samples': [1, 2, 3],\n",
       "                         'n_estimators': [10, 20, 100, 1000]},\n",
       "             verbose=True)"
      ]
     },
     "execution_count": 25,
     "metadata": {},
     "output_type": "execute_result"
    }
   ],
   "source": [
    "np.random.seed(42)\n",
    "\n",
    "#grid\n",
    "bagging_grid = {\n",
    "    'n_estimators': [10,20,100,1000],\n",
    "    'max_samples': [1,2,3],\n",
    "    'max_features': [1,2,3]\n",
    "}\n",
    "\n",
    "#randomizedsearchCv\n",
    "bagging_rs = GridSearchCV(BaggingClassifier(),bagging_grid,cv=5,verbose=True,n_jobs=-1)\n",
    "bagging_rs.fit(X_train_scaled,y_train)"
   ]
  },
  {
   "cell_type": "code",
   "execution_count": 26,
   "id": "76a5474c",
   "metadata": {},
   "outputs": [
    {
     "data": {
      "text/plain": [
       "{'max_features': 3, 'max_samples': 3, 'n_estimators': 100}"
      ]
     },
     "execution_count": 26,
     "metadata": {},
     "output_type": "execute_result"
    }
   ],
   "source": [
    "bagging_rs.best_params_"
   ]
  },
  {
   "cell_type": "code",
   "execution_count": 27,
   "id": "09543631",
   "metadata": {},
   "outputs": [
    {
     "data": {
      "text/plain": [
       "0.3240901213171577"
      ]
     },
     "execution_count": 27,
     "metadata": {},
     "output_type": "execute_result"
    }
   ],
   "source": [
    "bagging_rs.score(X_test_scaled,y_test)"
   ]
  },
  {
   "cell_type": "markdown",
   "id": "35859baf",
   "metadata": {},
   "source": [
    "2. Hyperparameter tuning for **DecisionTreeClassifier**"
   ]
  },
  {
   "cell_type": "code",
   "execution_count": 29,
   "id": "a061e239",
   "metadata": {},
   "outputs": [
    {
     "name": "stdout",
     "output_type": "stream",
     "text": [
      "Fitting 5 folds for each of 240 candidates, totalling 1200 fits\n"
     ]
    },
    {
     "name": "stderr",
     "output_type": "stream",
     "text": [
      "[Parallel(n_jobs=-1)]: Using backend LokyBackend with 6 concurrent workers.\n",
      "[Parallel(n_jobs=-1)]: Done 100 tasks      | elapsed:    0.0s\n",
      "[Parallel(n_jobs=-1)]: Done 1200 out of 1200 | elapsed:    0.6s finished\n"
     ]
    },
    {
     "data": {
      "text/plain": [
       "GridSearchCV(cv=5, estimator=DecisionTreeClassifier(), n_jobs=-1,\n",
       "             param_grid={'max_depth': [None, 1, 2, 3, 4],\n",
       "                         'max_features': ['auto', 'sqrt', 'log2'],\n",
       "                         'min_samples_leaf': [1, 2, 3, 4],\n",
       "                         'min_samples_split': [1, 2, 3, 4]},\n",
       "             verbose=True)"
      ]
     },
     "execution_count": 29,
     "metadata": {},
     "output_type": "execute_result"
    }
   ],
   "source": [
    "np.random.seed(42)\n",
    "\n",
    "#grid\n",
    "decision_grid = {\n",
    "    'max_depth': [None, 1,2,3,4],\n",
    "    'min_samples_split': [1,2,3,4],\n",
    "    'min_samples_leaf': [1,2,3,4],\n",
    "    'max_features': ['auto', 'sqrt', 'log2'],\n",
    "\n",
    "}\n",
    "\n",
    "#randomizedsearchCv\n",
    "decision_rs = GridSearchCV(DecisionTreeClassifier(),decision_grid,cv=5,verbose=True,n_jobs=-1)\n",
    "decision_rs.fit(X_train_scaled,y_train)"
   ]
  },
  {
   "cell_type": "code",
   "execution_count": 30,
   "id": "c759d159",
   "metadata": {},
   "outputs": [
    {
     "data": {
      "text/plain": [
       "{'max_depth': None,\n",
       " 'max_features': 'sqrt',\n",
       " 'min_samples_leaf': 1,\n",
       " 'min_samples_split': 2}"
      ]
     },
     "execution_count": 30,
     "metadata": {},
     "output_type": "execute_result"
    }
   ],
   "source": [
    "decision_rs.best_params_"
   ]
  },
  {
   "cell_type": "code",
   "execution_count": 31,
   "id": "499c6602",
   "metadata": {},
   "outputs": [
    {
     "data": {
      "text/plain": [
       "0.5849220103986135"
      ]
     },
     "execution_count": 31,
     "metadata": {},
     "output_type": "execute_result"
    }
   ],
   "source": [
    "decision_rs.score(X_test_scaled,y_test)"
   ]
  },
  {
   "cell_type": "markdown",
   "id": "eb568889",
   "metadata": {},
   "source": [
    "3. Hyperparameter tuning for **RandomForestClassifier**"
   ]
  },
  {
   "cell_type": "code",
   "execution_count": 32,
   "id": "afda639f",
   "metadata": {},
   "outputs": [
    {
     "name": "stdout",
     "output_type": "stream",
     "text": [
      "Fitting 5 folds for each of 1152 candidates, totalling 5760 fits\n"
     ]
    },
    {
     "name": "stderr",
     "output_type": "stream",
     "text": [
      "[Parallel(n_jobs=-1)]: Using backend LokyBackend with 6 concurrent workers.\n",
      "[Parallel(n_jobs=-1)]: Done  38 tasks      | elapsed:    1.8s\n",
      "[Parallel(n_jobs=-1)]: Done 188 tasks      | elapsed:   33.7s\n",
      "[Parallel(n_jobs=-1)]: Done 438 tasks      | elapsed:  1.4min\n",
      "[Parallel(n_jobs=-1)]: Done 788 tasks      | elapsed:  2.5min\n",
      "[Parallel(n_jobs=-1)]: Done 1238 tasks      | elapsed:  4.3min\n",
      "[Parallel(n_jobs=-1)]: Done 1788 tasks      | elapsed:  5.6min\n",
      "[Parallel(n_jobs=-1)]: Done 2438 tasks      | elapsed:  6.6min\n",
      "[Parallel(n_jobs=-1)]: Done 3188 tasks      | elapsed:  7.7min\n",
      "[Parallel(n_jobs=-1)]: Done 4038 tasks      | elapsed:  9.0min\n",
      "[Parallel(n_jobs=-1)]: Done 4988 tasks      | elapsed: 10.7min\n",
      "[Parallel(n_jobs=-1)]: Done 5760 out of 5760 | elapsed: 12.1min finished\n"
     ]
    },
    {
     "data": {
      "text/plain": [
       "GridSearchCV(cv=5, estimator=RandomForestClassifier(), n_jobs=-1,\n",
       "             param_grid={'max_depth': [None, 1, 2, 3],\n",
       "                         'max_features': ['auto', 'sqrt', 'log2'],\n",
       "                         'min_samples_leaf': [1, 2, 3, 4],\n",
       "                         'min_samples_split': [1, 2, 3, 4],\n",
       "                         'n_estimators': [10, 20, 100, 500, 900, 1000]},\n",
       "             verbose=True)"
      ]
     },
     "execution_count": 32,
     "metadata": {},
     "output_type": "execute_result"
    }
   ],
   "source": [
    "np.random.seed(42)\n",
    "\n",
    "#grid\n",
    "random_grid = {\n",
    "    'n_estimators': [10,20,100,500,900,1000],\n",
    "    'max_depth': [None, 1,2,3],\n",
    "    'min_samples_split': [1,2,3,4],\n",
    "    'min_samples_leaf': [1,2,3,4],\n",
    "    'max_features': ['auto', 'sqrt', 'log2'],\n",
    "}\n",
    "\n",
    "#randomizedsearchCv\n",
    "random_rs = GridSearchCV(RandomForestClassifier(),random_grid,cv=5,verbose=True,n_jobs=-1)\n",
    "random_rs.fit(X_train_scaled,y_train)"
   ]
  },
  {
   "cell_type": "code",
   "execution_count": 34,
   "id": "78c190e8",
   "metadata": {},
   "outputs": [
    {
     "data": {
      "text/plain": [
       "{'max_depth': None,\n",
       " 'max_features': 'log2',\n",
       " 'min_samples_leaf': 1,\n",
       " 'min_samples_split': 2,\n",
       " 'n_estimators': 1000}"
      ]
     },
     "execution_count": 34,
     "metadata": {},
     "output_type": "execute_result"
    }
   ],
   "source": [
    "random_rs.best_params_"
   ]
  },
  {
   "cell_type": "code",
   "execution_count": 36,
   "id": "5b17b4f7",
   "metadata": {},
   "outputs": [
    {
     "data": {
      "text/plain": [
       "0.6291161178509532"
      ]
     },
     "execution_count": 36,
     "metadata": {},
     "output_type": "execute_result"
    }
   ],
   "source": [
    "random_rs.score(X_test_scaled, y_test)"
   ]
  },
  {
   "cell_type": "markdown",
   "id": "244f0f93",
   "metadata": {},
   "source": [
    "4. Hyperparameter tuning for **ExtraTreeClassifier**"
   ]
  },
  {
   "cell_type": "code",
   "execution_count": 41,
   "id": "b818ef89",
   "metadata": {},
   "outputs": [
    {
     "name": "stdout",
     "output_type": "stream",
     "text": [
      "Fitting 5 folds for each of 108 candidates, totalling 540 fits\n"
     ]
    },
    {
     "name": "stderr",
     "output_type": "stream",
     "text": [
      "[Parallel(n_jobs=-1)]: Using backend LokyBackend with 6 concurrent workers.\n",
      "[Parallel(n_jobs=-1)]: Done 100 tasks      | elapsed:    0.0s\n",
      "[Parallel(n_jobs=-1)]: Done 540 out of 540 | elapsed:    0.3s finished\n"
     ]
    },
    {
     "data": {
      "text/plain": [
       "GridSearchCV(cv=5, estimator=ExtraTreeClassifier(), n_jobs=-1,\n",
       "             param_grid={'max_depth': [None, 1, 2, 3],\n",
       "                         'max_features': ['auto', 'sqrt', 'log2'],\n",
       "                         'min_samples_leaf': [1, 2, 3],\n",
       "                         'min_samples_split': [1, 2, 3]},\n",
       "             verbose=True)"
      ]
     },
     "execution_count": 41,
     "metadata": {},
     "output_type": "execute_result"
    }
   ],
   "source": [
    "np.random.seed(42)\n",
    "\n",
    "#grid\n",
    "extra_grid = {\n",
    "    'max_depth': [None, 1,2,3],\n",
    "    'min_samples_split': [1,2,3],\n",
    "    'min_samples_leaf': [1,2,3],\n",
    "    'max_features': ['auto', 'sqrt', 'log2'],\n",
    "}\n",
    "\n",
    "#randomizedsearchCv\n",
    "extra_rs = GridSearchCV(ExtraTreeClassifier(),extra_grid,cv=5,verbose=True,n_jobs=-1)\n",
    "extra_rs.fit(X_train_scaled,y_train)"
   ]
  },
  {
   "cell_type": "code",
   "execution_count": 43,
   "id": "961cd5f9",
   "metadata": {},
   "outputs": [
    {
     "data": {
      "text/plain": [
       "{'max_depth': None,\n",
       " 'max_features': 'log2',\n",
       " 'min_samples_leaf': 1,\n",
       " 'min_samples_split': 3}"
      ]
     },
     "execution_count": 43,
     "metadata": {},
     "output_type": "execute_result"
    }
   ],
   "source": [
    "extra_rs.best_params_"
   ]
  },
  {
   "cell_type": "code",
   "execution_count": 44,
   "id": "655ea211",
   "metadata": {},
   "outputs": [
    {
     "data": {
      "text/plain": [
       "0.6178509532062392"
      ]
     },
     "execution_count": 44,
     "metadata": {},
     "output_type": "execute_result"
    }
   ],
   "source": [
    "extra_rs.score(X_test_scaled, y_test)"
   ]
  },
  {
   "cell_type": "markdown",
   "id": "1e3240e8",
   "metadata": {},
   "source": [
    "5. Hyperparameter tuning for **XGBCLassifier**"
   ]
  },
  {
   "cell_type": "code",
   "execution_count": 45,
   "id": "2b0f6ad4",
   "metadata": {},
   "outputs": [
    {
     "data": {
      "text/plain": [
       "dict_keys(['objective', 'base_score', 'booster', 'colsample_bylevel', 'colsample_bynode', 'colsample_bytree', 'gamma', 'gpu_id', 'importance_type', 'interaction_constraints', 'learning_rate', 'max_delta_step', 'max_depth', 'min_child_weight', 'missing', 'monotone_constraints', 'n_estimators', 'n_jobs', 'num_parallel_tree', 'random_state', 'reg_alpha', 'reg_lambda', 'scale_pos_weight', 'subsample', 'tree_method', 'validate_parameters', 'verbosity'])"
      ]
     },
     "execution_count": 45,
     "metadata": {},
     "output_type": "execute_result"
    }
   ],
   "source": [
    "XGBClassifier().get_params().keys()"
   ]
  },
  {
   "cell_type": "code",
   "execution_count": 46,
   "id": "96247d04",
   "metadata": {},
   "outputs": [
    {
     "name": "stdout",
     "output_type": "stream",
     "text": [
      "Fitting 5 folds for each of 192 candidates, totalling 960 fits\n"
     ]
    },
    {
     "name": "stderr",
     "output_type": "stream",
     "text": [
      "[Parallel(n_jobs=-1)]: Using backend LokyBackend with 6 concurrent workers.\n",
      "[Parallel(n_jobs=-1)]: Done  38 tasks      | elapsed:    2.5s\n",
      "[Parallel(n_jobs=-1)]: Done 188 tasks      | elapsed:   14.2s\n",
      "[Parallel(n_jobs=-1)]: Done 438 tasks      | elapsed:   32.1s\n",
      "[Parallel(n_jobs=-1)]: Done 788 tasks      | elapsed:   57.8s\n",
      "[Parallel(n_jobs=-1)]: Done 960 out of 960 | elapsed:  1.2min finished\n"
     ]
    },
    {
     "data": {
      "text/plain": [
       "GridSearchCV(cv=5,\n",
       "             estimator=XGBClassifier(base_score=None, booster=None,\n",
       "                                     colsample_bylevel=None,\n",
       "                                     colsample_bynode=None,\n",
       "                                     colsample_bytree=None, gamma=None,\n",
       "                                     gpu_id=None, importance_type='gain',\n",
       "                                     interaction_constraints=None,\n",
       "                                     learning_rate=None, max_delta_step=None,\n",
       "                                     max_depth=None, min_child_weight=None,\n",
       "                                     missing=nan, monotone_constraints=None,\n",
       "                                     n_estimators=100, n_jobs=None,\n",
       "                                     num_parallel_tree=None, random_state=None,\n",
       "                                     reg_alpha=None, reg_lambda=None,\n",
       "                                     scale_pos_weight=None, subsample=None,\n",
       "                                     tree_method=None, validate_parameters=None,\n",
       "                                     verbosity=None),\n",
       "             n_jobs=-1,\n",
       "             param_grid={'learning_rate': [0.01, 0.1, 0.3, 1],\n",
       "                         'max_delta_step': [0, 1, 2, 3],\n",
       "                         'max_depth': [1, 2, 3, 6],\n",
       "                         'min_child_weight': [1, 2, 3]},\n",
       "             verbose=True)"
      ]
     },
     "execution_count": 46,
     "metadata": {},
     "output_type": "execute_result"
    }
   ],
   "source": [
    "np.random.seed(42)\n",
    "\n",
    "#grid\n",
    "xgb_grid = {\n",
    "    'learning_rate':[0.01,0.1,0.3,1],\n",
    "    'max_depth': [1,2,3,6],\n",
    "    'min_child_weight': [1,2,3],\n",
    "    'max_delta_step': [0,1,2,3]\n",
    "    \n",
    "}\n",
    "\n",
    "#randomizedsearchCv\n",
    "xgb_rs = GridSearchCV(XGBClassifier(),xgb_grid,cv=5,verbose=True,n_jobs=-1)\n",
    "xgb_rs.fit(X_train_scaled,y_train)"
   ]
  },
  {
   "cell_type": "code",
   "execution_count": 47,
   "id": "c5e953a1",
   "metadata": {},
   "outputs": [
    {
     "data": {
      "text/plain": [
       "{'learning_rate': 1,\n",
       " 'max_delta_step': 0,\n",
       " 'max_depth': 6,\n",
       " 'min_child_weight': 1}"
      ]
     },
     "execution_count": 47,
     "metadata": {},
     "output_type": "execute_result"
    }
   ],
   "source": [
    "xgb_rs.best_params_"
   ]
  },
  {
   "cell_type": "code",
   "execution_count": 48,
   "id": "281a9cee",
   "metadata": {},
   "outputs": [
    {
     "data": {
      "text/plain": [
       "0.5953206239168111"
      ]
     },
     "execution_count": 48,
     "metadata": {},
     "output_type": "execute_result"
    }
   ],
   "source": [
    "xgb_rs.score(X_test_scaled, y_test)"
   ]
  },
  {
   "cell_type": "markdown",
   "id": "dd8b9a40",
   "metadata": {},
   "source": [
    "After hypertuning our top models,\n",
    " - BaggingClassifier - **0.3240**\n",
    " - DecisionTreeClassifier - **0.5849**\n",
    " - RandomForestClassifier - **0.6291**\n",
    " - ExtraTreeClassifier - **0.6178**\n",
    " - XGBClassifier - **0.5953**\n",
    " \n",
    "We can clearly see that our Hypertuned **RandomForestClassifier** performs well compare to other 5 models."
   ]
  },
  {
   "cell_type": "markdown",
   "id": "bb43ea42",
   "metadata": {},
   "source": [
    "### Evaluating our RandomForestClassifier"
   ]
  },
  {
   "cell_type": "code",
   "execution_count": 61,
   "id": "5d3083ae",
   "metadata": {},
   "outputs": [
    {
     "data": {
      "text/plain": [
       "0.6291161178509532"
      ]
     },
     "execution_count": 61,
     "metadata": {},
     "output_type": "execute_result"
    }
   ],
   "source": [
    "#let's fit our model with best parameters\n",
    "model = RandomForestClassifier(\n",
    "    max_depth=None, \n",
    "    max_features='log2',\n",
    "    min_samples_leaf=1, \n",
    "    min_samples_split=2, \n",
    "    n_estimators=1000, \n",
    "    random_state=42\n",
    ")\n",
    "\n",
    "#fitting our model\n",
    "model.fit(X_train_scaled, y_train)\n",
    "\n",
    "#evaluating our model\n",
    "accuracy = model.score(X_test_scaled, y_test)\n",
    "accuracy"
   ]
  },
  {
   "cell_type": "code",
   "execution_count": 56,
   "id": "80239693",
   "metadata": {},
   "outputs": [],
   "source": [
    "#predictions\n",
    "prediction = model.predict(X_test_scaled) "
   ]
  },
  {
   "cell_type": "code",
   "execution_count": 65,
   "id": "349dec0b",
   "metadata": {},
   "outputs": [
    {
     "data": {
      "text/plain": [
       "0.6291161178509532"
      ]
     },
     "execution_count": 65,
     "metadata": {},
     "output_type": "execute_result"
    }
   ],
   "source": [
    "#recall\n",
    "recall = recall_score(y_test, prediction, average='micro')\n",
    "recall"
   ]
  },
  {
   "cell_type": "code",
   "execution_count": 63,
   "id": "896db53a",
   "metadata": {},
   "outputs": [
    {
     "data": {
      "text/plain": [
       "0.6291161178509532"
      ]
     },
     "execution_count": 63,
     "metadata": {},
     "output_type": "execute_result"
    }
   ],
   "source": [
    "#precision\n",
    "precision = precision_score(y_test, prediction, average='micro')\n",
    "precision"
   ]
  },
  {
   "cell_type": "code",
   "execution_count": 66,
   "id": "a7a771a9",
   "metadata": {},
   "outputs": [
    {
     "name": "stdout",
     "output_type": "stream",
     "text": [
      "              precision    recall  f1-score   support\n",
      "\n",
      "         0.0       0.70      0.66      0.68       386\n",
      "         1.0       0.61      0.65      0.63       394\n",
      "         2.0       0.59      0.58      0.58       374\n",
      "\n",
      "    accuracy                           0.63      1154\n",
      "   macro avg       0.63      0.63      0.63      1154\n",
      "weighted avg       0.63      0.63      0.63      1154\n",
      "\n"
     ]
    }
   ],
   "source": [
    "#classification_report\n",
    "print(classification_report(y_test, prediction))"
   ]
  },
  {
   "cell_type": "code",
   "execution_count": 73,
   "id": "19faf40f",
   "metadata": {},
   "outputs": [
    {
     "data": {
      "image/png": "[encoded data removed]",
      "text/plain": [
       "<Figure size 576x432 with 2 Axes>"
      ]
     },
     "metadata": {
      "needs_background": "light"
     },
     "output_type": "display_data"
    }
   ],
   "source": [
    "#confusion matrix\n",
    "corr_matrix = confusion_matrix(y_test, prediction)\n",
    "\n",
    "#plotting\n",
    "fig, ax = plt.subplots(figsize=(8,6))\n",
    "sns.heatmap(corr_matrix, annot=True);"
   ]
  },
  {
   "cell_type": "markdown",
   "id": "491e4694",
   "metadata": {},
   "source": [
    "### Feature Importance"
   ]
  },
  {
   "cell_type": "code",
   "execution_count": 78,
   "id": "2bedb190",
   "metadata": {},
   "outputs": [],
   "source": [
    "importances = model.feature_importances_"
   ]
  },
  {
   "cell_type": "code",
   "execution_count": 79,
   "id": "e3b7338a",
   "metadata": {},
   "outputs": [],
   "source": [
    "imp = pd.DataFrame(index=categorical_features)\n",
    "imp['Importance'] = importances"
   ]
  },
  {
   "cell_type": "code",
   "execution_count": 80,
   "id": "e0b677ee",
   "metadata": {},
   "outputs": [
    {
     "data": {
      "text/html": [
       "<div>\n",
       "<style scoped>\n",
       "    .dataframe tbody tr th:only-of-type {\n",
       "        vertical-align: middle;\n",
       "    }\n",
       "\n",
       "    .dataframe tbody tr th {\n",
       "        vertical-align: top;\n",
       "    }\n",
       "\n",
       "    .dataframe thead th {\n",
       "        text-align: right;\n",
       "    }\n",
       "</style>\n",
       "<table border=\"1\" class=\"dataframe\">\n",
       "  <thead>\n",
       "    <tr style=\"text-align: right;\">\n",
       "      <th></th>\n",
       "      <th>Importance</th>\n",
       "    </tr>\n",
       "  </thead>\n",
       "  <tbody>\n",
       "    <tr>\n",
       "      <th>City</th>\n",
       "      <td>0.14</td>\n",
       "    </tr>\n",
       "    <tr>\n",
       "      <th>Sport</th>\n",
       "      <td>0.14</td>\n",
       "    </tr>\n",
       "    <tr>\n",
       "      <th>Discipline</th>\n",
       "      <td>0.05</td>\n",
       "    </tr>\n",
       "    <tr>\n",
       "      <th>Athlete</th>\n",
       "      <td>0.06</td>\n",
       "    </tr>\n",
       "    <tr>\n",
       "      <th>Country</th>\n",
       "      <td>0.22</td>\n",
       "    </tr>\n",
       "    <tr>\n",
       "      <th>Gender</th>\n",
       "      <td>0.19</td>\n",
       "    </tr>\n",
       "    <tr>\n",
       "      <th>Event</th>\n",
       "      <td>0.04</td>\n",
       "    </tr>\n",
       "    <tr>\n",
       "      <th>Medal</th>\n",
       "      <td>0.16</td>\n",
       "    </tr>\n",
       "  </tbody>\n",
       "</table>\n",
       "</div>"
      ],
      "text/plain": [
       "            Importance\n",
       "City              0.14\n",
       "Sport             0.14\n",
       "Discipline        0.05\n",
       "Athlete           0.06\n",
       "Country           0.22\n",
       "Gender            0.19\n",
       "Event             0.04\n",
       "Medal             0.16"
      ]
     },
     "execution_count": 80,
     "metadata": {},
     "output_type": "execute_result"
    }
   ],
   "source": [
    "imp"
   ]
  },
  {
   "cell_type": "code",
   "execution_count": 86,
   "id": "6c05374e",
   "metadata": {},
   "outputs": [
    {
     "data": {
      "text/plain": [
       "<AxesSubplot:title={'center':'Feature Importance'}>"
      ]
     },
     "execution_count": 86,
     "metadata": {},
     "output_type": "execute_result"
    },
    {
     "data": {
      "image/png": "[encoded data removed]",
      "text/plain": [
       "<Figure size 576x432 with 1 Axes>"
      ]
     },
     "metadata": {
      "needs_background": "light"
     },
     "output_type": "display_data"
    }
   ],
   "source": [
    "imp.plot.bar(title='Feature Importance',legend=False,color='lightblue',figsize=(8,6))"
   ]
  }
 ],
 "metadata": {
  "kernelspec": {
   "display_name": "Python 3 (ipykernel)",
   "language": "python",
   "name": "python3"
  },
  "language_info": {
   "codemirror_mode": {
    "name": "ipython",
    "version": 3
   },
   "file_extension": ".py",
   "mimetype": "text/x-python",
   "name": "python",
   "nbconvert_exporter": "python",
   "pygments_lexer": "ipython3",
   "version": "3.8.5"
  }
 },
 "nbformat": 4,
 "nbformat_minor": 5
}
